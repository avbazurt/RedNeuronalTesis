{
  "nbformat": 4,
  "nbformat_minor": 0,
  "metadata": {
    "colab": {
      "name": "ModeloTensorFlow.ipynb",
      "provenance": [],
      "authorship_tag": "ABX9TyPEzINOoIj21hM3xCDumyTY",
      "include_colab_link": true
    },
    "kernelspec": {
      "name": "python3",
      "display_name": "Python 3"
    },
    "language_info": {
      "name": "python"
    }
  },
  "cells": [
    {
      "cell_type": "markdown",
      "metadata": {
        "id": "view-in-github",
        "colab_type": "text"
      },
      "source": [
        "<a href=\"https://colab.research.google.com/github/avbazurt/RedNeuronalTesis/blob/main/model/modelTraining/ModeloTensorFlow.ipynb\" target=\"_parent\"><img src=\"https://colab.research.google.com/assets/colab-badge.svg\" alt=\"Open In Colab\"/></a>"
      ]
    },
    {
      "cell_type": "markdown",
      "source": [
        "# Preparacion librerias\n",
        "La distribuccion tensorflow Lite a utilizar fue compilada a partir de la TensorFlow version: 2.1.1, por ello tenemos que utilizar esa version para generar el modelo. Ademas de utilizar la version Keras compatible. Se preparo un archivo donde se recopilaron todas las librerias necesarias.\n"
      ],
      "metadata": {
        "id": "3qxk_AQy_Ma4"
      }
    },
    {
      "cell_type": "code",
      "source": [
        "pip install -r requirements.txt"
      ],
      "metadata": {
        "colab": {
          "base_uri": "https://localhost:8080/"
        },
        "id": "rM7i2CKp_Q-q",
        "outputId": "d3f558bd-e544-4328-8ca1-08b7637256fb"
      },
      "execution_count": null,
      "outputs": [
        {
          "output_type": "stream",
          "name": "stdout",
          "text": [
            "\u001b[31mERROR: Could not open requirements file: [Errno 2] No such file or directory: 'requirements.txt'\u001b[0m\n"
          ]
        }
      ]
    },
    {
      "cell_type": "markdown",
      "source": [
        "# Procesamiento Datos\n",
        "Una vez que preparamos las librerias, procedemos a trabajar con los datos que utilizaremos para el entrenamiento."
      ],
      "metadata": {
        "id": "qwc3BNkbA-qh"
      }
    },
    {
      "cell_type": "code",
      "source": [
        "from __future__ import absolute_import, division, print_function, unicode_literals\n",
        "\n",
        "import pandas as pd\n",
        "import numpy as np\n",
        "\n",
        "import tensorflow as tf\n",
        "from tensorflow.keras import layers\n",
        "from tensorflow.keras.utils import to_categorical\n",
        "from tensorflow.keras.models import load_model\n",
        "from keras.utils import np_utils\n",
        "\n",
        "from keras import backend as K\n",
        "\n",
        "import matplotlib.pyplot as plt\n",
        "import re\n",
        "import hexdump\n",
        "\n",
        "print(\"TensorFlow version: {}\".format(tf.__version__))"
      ],
      "metadata": {
        "colab": {
          "base_uri": "https://localhost:8080/"
        },
        "id": "zcK4dL7CBno1",
        "outputId": "f5270f91-e113-4f9c-d3ef-78b07358c489"
      },
      "execution_count": null,
      "outputs": [
        {
          "output_type": "stream",
          "name": "stdout",
          "text": [
            "TensorFlow version: 2.1.1\n"
          ]
        }
      ]
    },
    {
      "cell_type": "code",
      "source": [
        ""
      ],
      "metadata": {
        "id": "dMFz88I4CMJR"
      },
      "execution_count": null,
      "outputs": []
    },
    {
      "cell_type": "markdown",
      "source": [
        "# Creacion del modelo"
      ],
      "metadata": {
        "id": "O4t9OXPzJN1N"
      }
    },
    {
      "cell_type": "code",
      "source": [
        ""
      ],
      "metadata": {
        "id": "129WEIM0JT7x"
      },
      "execution_count": null,
      "outputs": []
    }
  ]
}
