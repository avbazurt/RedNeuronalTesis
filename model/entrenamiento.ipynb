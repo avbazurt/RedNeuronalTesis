{
 "cells": [
  {
   "cell_type": "code",
   "execution_count": 4,
   "metadata": {
    "collapsed": true
   },
   "outputs": [
    {
     "name": "stderr",
     "output_type": "stream",
     "text": [
      "2021-12-30 18:52:59.457933: W tensorflow/stream_executor/platform/default/dso_loader.cc:55] Could not load dynamic library 'libnvinfer.so.6'; dlerror: libnvinfer.so.6: cannot open shared object file: No such file or directory\n",
      "2021-12-30 18:52:59.458021: W tensorflow/stream_executor/platform/default/dso_loader.cc:55] Could not load dynamic library 'libnvinfer_plugin.so.6'; dlerror: libnvinfer_plugin.so.6: cannot open shared object file: No such file or directory\n",
      "2021-12-30 18:52:59.458030: W tensorflow/compiler/tf2tensorrt/utils/py_utils.cc:30] Cannot dlopen some TensorRT libraries. If you would like to use Nvidia GPU with TensorRT, please make sure the missing libraries mentioned above are installed properly.\n",
      "Using TensorFlow backend.\n"
     ]
    },
    {
     "name": "stdout",
     "output_type": "stream",
     "text": [
      "TensorFlow version: 2.1.1\n"
     ]
    }
   ],
   "source": [
    "from __future__ import absolute_import, division, print_function, unicode_literals\n",
    "import pandas\n",
    "import numpy as np\n",
    "import tensorflow as tf\n",
    "from tensorflow.keras import layers\n",
    "from tensorflow.keras.utils import to_categorical\n",
    "from keras.utils import np_utils\n",
    "\n",
    "from tensorflow.keras.models import load_model\n",
    "\n",
    "from sklearn.model_selection import train_test_split\n",
    "from sklearn.datasets import make_circles\n",
    "\n",
    "from keras import backend as K\n",
    "import matplotlib.pyplot as plt\n",
    "import re\n",
    "import hexdump\n",
    "\n",
    "print(\"TensorFlow version: {}\".format(tf.__version__))"
   ]
  },
  {
   "cell_type": "code",
   "execution_count": 5,
   "outputs": [
    {
     "name": "stdout",
     "output_type": "stream",
     "text": [
      "(500, 2)\n",
      "(500,)\n"
     ]
    },
    {
     "data": {
      "text/plain": "<Figure size 432x288 with 1 Axes>",
      "image/png": "[encoded data removed]"
     },
     "metadata": {
      "needs_background": "light"
     },
     "output_type": "display_data"
    }
   ],
   "source": [
    "X , Y  = make_circles(n_samples=500, factor=0.5, noise=0.05)\n",
    "X = 5*X\n",
    "\n",
    "plt.scatter(X[Y==0,0],X[Y==0,1],c=\"skyblue\")\n",
    "plt.scatter(X[Y==1,0],X[Y==1,1],c=\"red\")\n",
    "\n",
    "print(np.shape(X))\n",
    "print(np.shape(Y))"
   ],
   "metadata": {
    "collapsed": false,
    "pycharm": {
     "name": "#%%\n"
    }
   }
  },
  {
   "cell_type": "code",
   "execution_count": 6,
   "outputs": [],
   "source": [
    "X_train,X_test,y_train,y_test=train_test_split(X,Y,train_size=0.8,random_state=23)\n",
    "\n",
    "\n",
    "X_train_1 = K.cast_to_floatx (X_train)\n",
    "X_test_1 = K.cast_to_floatx (X_test)\n",
    "y_train_1 = K.cast_to_floatx (y_train)"
   ],
   "metadata": {
    "collapsed": false,
    "pycharm": {
     "name": "#%%\n"
    }
   }
  },
  {
   "cell_type": "code",
   "execution_count": 7,
   "outputs": [
    {
     "name": "stdout",
     "output_type": "stream",
     "text": [
      "Model: \"sequential\"\n",
      "_________________________________________________________________\n",
      "Layer (type)                 Output Shape              Param #   \n",
      "=================================================================\n",
      "dense (Dense)                (None, 16)                48        \n",
      "_________________________________________________________________\n",
      "dense_1 (Dense)              (None, 8)                 136       \n",
      "_________________________________________________________________\n",
      "dense_2 (Dense)              (None, 1)                 9         \n",
      "=================================================================\n",
      "Total params: 193\n",
      "Trainable params: 193\n",
      "Non-trainable params: 0\n",
      "_________________________________________________________________\n"
     ]
    },
    {
     "name": "stderr",
     "output_type": "stream",
     "text": [
      "2021-12-30 18:53:08.182685: W tensorflow/stream_executor/platform/default/dso_loader.cc:55] Could not load dynamic library 'libcuda.so.1'; dlerror: libcuda.so.1: cannot open shared object file: No such file or directory\n",
      "2021-12-30 18:53:08.182718: E tensorflow/stream_executor/cuda/cuda_driver.cc:351] failed call to cuInit: UNKNOWN ERROR (303)\n",
      "2021-12-30 18:53:08.182742: I tensorflow/stream_executor/cuda/cuda_diagnostics.cc:156] kernel driver does not appear to be running on this host (fedora): /proc/driver/nvidia/version does not exist\n",
      "2021-12-30 18:53:08.182963: I tensorflow/core/platform/cpu_feature_guard.cc:142] Your CPU supports instructions that this TensorFlow binary was not compiled to use: AVX2 FMA\n",
      "2021-12-30 18:53:08.202132: I tensorflow/core/platform/profile_utils/cpu_utils.cc:94] CPU Frequency: 2699905000 Hz\n",
      "2021-12-30 18:53:08.202484: I tensorflow/compiler/xla/service/service.cc:168] XLA service 0x55febe1ed610 initialized for platform Host (this does not guarantee that XLA will be used). Devices:\n",
      "2021-12-30 18:53:08.202514: I tensorflow/compiler/xla/service/service.cc:176]   StreamExecutor device (0): Host, Default Version\n"
     ]
    }
   ],
   "source": [
    "# El modelo\n",
    "model= tf.keras.Sequential()\n",
    "\n",
    "model.add(layers.Dense(16, activation='relu', input_dim=2))\n",
    "model.add(layers.Dense(8, activation='relu'))\n",
    "model.add(layers.Dense(1, activation='sigmoid'))\n",
    "\n",
    "# Configulación del entrenamiento\n",
    "model.compile(loss='mse', optimizer='adam', metrics=['accuracy'])\n",
    "\n",
    "model.summary()\n"
   ],
   "metadata": {
    "collapsed": false,
    "pycharm": {
     "name": "#%%\n"
    }
   }
  },
  {
   "cell_type": "code",
   "execution_count": 8,
   "outputs": [
    {
     "name": "stdout",
     "output_type": "stream",
     "text": [
      "Iniciar el entrenamiento\n",
      "Train on 400 samples\n",
      "Epoch 1/100\n",
      "400/400 [==============================] - 1s 2ms/sample - loss: 0.2167 - accuracy: 0.5225\n",
      "Epoch 2/100\n",
      "400/400 [==============================] - 0s 1ms/sample - loss: 0.1822 - accuracy: 0.7150\n",
      "Epoch 3/100\n",
      "400/400 [==============================] - 0s 1ms/sample - loss: 0.1457 - accuracy: 0.9475\n",
      "Epoch 4/100\n",
      "400/400 [==============================] - 0s 1ms/sample - loss: 0.1033 - accuracy: 0.9925\n",
      "Epoch 5/100\n",
      "400/400 [==============================] - 0s 1ms/sample - loss: 0.0640 - accuracy: 1.0000\n",
      "Epoch 6/100\n",
      "400/400 [==============================] - 0s 1ms/sample - loss: 0.0354 - accuracy: 1.0000\n",
      "Epoch 7/100\n",
      "400/400 [==============================] - 0s 1ms/sample - loss: 0.0195 - accuracy: 1.0000\n",
      "Epoch 8/100\n",
      "400/400 [==============================] - 0s 1ms/sample - loss: 0.0113 - accuracy: 1.0000\n",
      "Epoch 9/100\n",
      "400/400 [==============================] - 0s 1ms/sample - loss: 0.0069 - accuracy: 1.0000\n",
      "Epoch 10/100\n",
      "400/400 [==============================] - 0s 1ms/sample - loss: 0.0045 - accuracy: 1.0000\n",
      "Epoch 11/100\n",
      "400/400 [==============================] - 1s 1ms/sample - loss: 0.0031 - accuracy: 1.0000\n",
      "Epoch 12/100\n",
      "400/400 [==============================] - 0s 1ms/sample - loss: 0.0022 - accuracy: 1.0000\n",
      "Epoch 13/100\n",
      "400/400 [==============================] - 1s 1ms/sample - loss: 0.0016 - accuracy: 1.0000\n",
      "Epoch 14/100\n",
      "400/400 [==============================] - 0s 1ms/sample - loss: 0.0011 - accuracy: 1.0000\n",
      "Epoch 15/100\n",
      "400/400 [==============================] - 1s 2ms/sample - loss: 8.6173e-04 - accuracy: 1.0000\n",
      "Epoch 16/100\n",
      "400/400 [==============================] - 1s 2ms/sample - loss: 6.5206e-04 - accuracy: 1.0000\n",
      "Epoch 17/100\n",
      "400/400 [==============================] - 0s 1ms/sample - loss: 4.8978e-04 - accuracy: 1.0000\n",
      "Epoch 18/100\n",
      "400/400 [==============================] - 0s 1ms/sample - loss: 4.0679e-04 - accuracy: 1.0000\n",
      "Epoch 19/100\n",
      "400/400 [==============================] - 0s 1ms/sample - loss: 2.9869e-04 - accuracy: 1.0000\n",
      "Epoch 20/100\n",
      "400/400 [==============================] - 0s 1ms/sample - loss: 2.3939e-04 - accuracy: 1.0000\n",
      "Epoch 21/100\n",
      "400/400 [==============================] - 0s 1ms/sample - loss: 1.7334e-04 - accuracy: 1.0000\n",
      "Epoch 22/100\n",
      "400/400 [==============================] - 0s 1ms/sample - loss: 1.5695e-04 - accuracy: 1.0000\n",
      "Epoch 23/100\n",
      "400/400 [==============================] - 1s 1ms/sample - loss: 1.2049e-04 - accuracy: 1.0000\n",
      "Epoch 24/100\n",
      "400/400 [==============================] - 1s 1ms/sample - loss: 1.0167e-04 - accuracy: 1.0000\n",
      "Epoch 25/100\n",
      "400/400 [==============================] - 1s 1ms/sample - loss: 7.5848e-05 - accuracy: 1.0000\n",
      "Epoch 26/100\n",
      "400/400 [==============================] - 1s 1ms/sample - loss: 6.4381e-05 - accuracy: 1.0000\n",
      "Epoch 27/100\n",
      "400/400 [==============================] - 1s 2ms/sample - loss: 5.1303e-05 - accuracy: 1.0000\n",
      "Epoch 28/100\n",
      "400/400 [==============================] - 1s 1ms/sample - loss: 3.9008e-05 - accuracy: 1.0000\n",
      "Epoch 29/100\n",
      "400/400 [==============================] - 1s 1ms/sample - loss: 3.3344e-05 - accuracy: 1.0000\n",
      "Epoch 30/100\n",
      "400/400 [==============================] - 1s 1ms/sample - loss: 2.7049e-05 - accuracy: 1.0000\n",
      "Epoch 31/100\n",
      "400/400 [==============================] - 0s 1ms/sample - loss: 2.1767e-05 - accuracy: 1.0000\n",
      "Epoch 32/100\n",
      "400/400 [==============================] - 0s 1ms/sample - loss: 1.7942e-05 - accuracy: 1.0000\n",
      "Epoch 33/100\n",
      "400/400 [==============================] - 0s 1ms/sample - loss: 1.3461e-05 - accuracy: 1.0000\n",
      "Epoch 34/100\n",
      "400/400 [==============================] - 1s 1ms/sample - loss: 1.4618e-05 - accuracy: 1.0000\n",
      "Epoch 35/100\n",
      "400/400 [==============================] - 1s 1ms/sample - loss: 8.8540e-06 - accuracy: 1.0000\n",
      "Epoch 36/100\n",
      "400/400 [==============================] - 1s 1ms/sample - loss: 8.1330e-06 - accuracy: 1.0000\n",
      "Epoch 37/100\n",
      "400/400 [==============================] - 1s 1ms/sample - loss: 5.9664e-06 - accuracy: 1.0000\n",
      "Epoch 38/100\n",
      "400/400 [==============================] - 1s 1ms/sample - loss: 6.8444e-06 - accuracy: 1.0000\n",
      "Epoch 39/100\n",
      "400/400 [==============================] - 1s 1ms/sample - loss: 3.8556e-06 - accuracy: 1.0000\n",
      "Epoch 40/100\n",
      "400/400 [==============================] - 1s 1ms/sample - loss: 3.6100e-06 - accuracy: 1.0000\n",
      "Epoch 41/100\n",
      "400/400 [==============================] - 1s 1ms/sample - loss: 2.3841e-06 - accuracy: 1.0000\n",
      "Epoch 42/100\n",
      "400/400 [==============================] - 1s 2ms/sample - loss: 2.0465e-06 - accuracy: 1.0000\n",
      "Epoch 43/100\n",
      "400/400 [==============================] - 1s 2ms/sample - loss: 2.3482e-06 - accuracy: 1.0000\n",
      "Epoch 44/100\n",
      "400/400 [==============================] - 1s 1ms/sample - loss: 3.2480e-05 - accuracy: 1.0000\n",
      "Epoch 45/100\n",
      "400/400 [==============================] - 1s 1ms/sample - loss: 2.1739e-06 - accuracy: 1.0000\n",
      "Epoch 46/100\n",
      "400/400 [==============================] - 1s 1ms/sample - loss: 1.1328e-06 - accuracy: 1.0000\n",
      "Epoch 47/100\n",
      "400/400 [==============================] - 1s 2ms/sample - loss: 8.7344e-07 - accuracy: 1.0000\n",
      "Epoch 48/100\n",
      "400/400 [==============================] - 1s 1ms/sample - loss: 8.5901e-07 - accuracy: 1.0000\n",
      "Epoch 49/100\n",
      "400/400 [==============================] - 1s 1ms/sample - loss: 8.0964e-07 - accuracy: 1.0000\n",
      "Epoch 50/100\n",
      "400/400 [==============================] - 1s 1ms/sample - loss: 7.9098e-07 - accuracy: 1.0000\n",
      "Epoch 51/100\n",
      "400/400 [==============================] - 1s 1ms/sample - loss: 8.3524e-07 - accuracy: 1.0000\n",
      "Epoch 52/100\n",
      "400/400 [==============================] - 1s 1ms/sample - loss: 7.5852e-07 - accuracy: 1.0000\n",
      "Epoch 53/100\n",
      "400/400 [==============================] - 1s 1ms/sample - loss: 8.1926e-07 - accuracy: 1.0000\n",
      "Epoch 54/100\n",
      "400/400 [==============================] - 1s 1ms/sample - loss: 5.1101e-07 - accuracy: 1.0000\n",
      "Epoch 55/100\n",
      "400/400 [==============================] - 1s 1ms/sample - loss: 4.4315e-07 - accuracy: 1.0000\n",
      "Epoch 56/100\n",
      "400/400 [==============================] - 1s 1ms/sample - loss: 4.0650e-07 - accuracy: 1.0000\n",
      "Epoch 57/100\n",
      "400/400 [==============================] - 1s 1ms/sample - loss: 3.7972e-07 - accuracy: 1.0000\n",
      "Epoch 58/100\n",
      "400/400 [==============================] - 1s 2ms/sample - loss: 3.8535e-07 - accuracy: 1.0000\n",
      "Epoch 59/100\n",
      "400/400 [==============================] - 1s 1ms/sample - loss: 3.6187e-07 - accuracy: 1.0000\n",
      "Epoch 60/100\n",
      "400/400 [==============================] - 1s 1ms/sample - loss: 2.1991e-07 - accuracy: 1.0000\n",
      "Epoch 61/100\n",
      "400/400 [==============================] - 1s 1ms/sample - loss: 2.0519e-07 - accuracy: 1.0000\n",
      "Epoch 62/100\n",
      "400/400 [==============================] - 1s 1ms/sample - loss: 1.9331e-07 - accuracy: 1.0000\n",
      "Epoch 63/100\n",
      "400/400 [==============================] - 1s 2ms/sample - loss: 1.8558e-07 - accuracy: 1.0000\n",
      "Epoch 64/100\n",
      "400/400 [==============================] - 1s 2ms/sample - loss: 2.4248e-07 - accuracy: 1.0000\n",
      "Epoch 65/100\n",
      "400/400 [==============================] - 1s 2ms/sample - loss: 8.1836e-08 - accuracy: 1.0000\n",
      "Epoch 66/100\n",
      "400/400 [==============================] - 1s 1ms/sample - loss: 1.2166e-07 - accuracy: 1.0000\n",
      "Epoch 67/100\n",
      "400/400 [==============================] - 1s 1ms/sample - loss: 6.2494e-07 - accuracy: 1.0000\n",
      "Epoch 68/100\n",
      "400/400 [==============================] - 1s 1ms/sample - loss: 4.8393e-08 - accuracy: 1.0000\n",
      "Epoch 69/100\n",
      "400/400 [==============================] - 1s 1ms/sample - loss: 4.1373e-08 - accuracy: 1.0000\n",
      "Epoch 70/100\n",
      "400/400 [==============================] - 1s 1ms/sample - loss: 4.1718e-08 - accuracy: 1.0000\n",
      "Epoch 71/100\n",
      "400/400 [==============================] - 1s 1ms/sample - loss: 3.1512e-08 - accuracy: 1.0000\n",
      "Epoch 72/100\n",
      "400/400 [==============================] - 1s 1ms/sample - loss: 3.2666e-08 - accuracy: 1.0000\n",
      "Epoch 73/100\n",
      "400/400 [==============================] - 1s 2ms/sample - loss: 4.0714e-08 - accuracy: 1.0000\n",
      "Epoch 74/100\n",
      "400/400 [==============================] - 1s 1ms/sample - loss: 7.3058e-08 - accuracy: 1.0000\n",
      "Epoch 75/100\n",
      "400/400 [==============================] - 1s 1ms/sample - loss: 3.1615e-08 - accuracy: 1.0000\n",
      "Epoch 76/100\n",
      "400/400 [==============================] - 1s 1ms/sample - loss: 2.1803e-08 - accuracy: 1.0000\n",
      "Epoch 77/100\n",
      "400/400 [==============================] - 1s 1ms/sample - loss: 2.3160e-08 - accuracy: 1.0000\n",
      "Epoch 78/100\n",
      "400/400 [==============================] - 1s 1ms/sample - loss: 1.6703e-08 - accuracy: 1.0000\n",
      "Epoch 79/100\n",
      "400/400 [==============================] - 1s 1ms/sample - loss: 1.7422e-08 - accuracy: 1.0000\n",
      "Epoch 80/100\n",
      "400/400 [==============================] - 1s 1ms/sample - loss: 7.5509e-08 - accuracy: 1.0000\n",
      "Epoch 81/100\n",
      "400/400 [==============================] - 1s 1ms/sample - loss: 2.3251e-08 - accuracy: 1.0000\n",
      "Epoch 82/100\n",
      "400/400 [==============================] - 1s 1ms/sample - loss: 8.8459e-09 - accuracy: 1.0000\n",
      "Epoch 83/100\n",
      "400/400 [==============================] - 1s 1ms/sample - loss: 7.4940e-09 - accuracy: 1.0000\n",
      "Epoch 84/100\n",
      "400/400 [==============================] - 1s 2ms/sample - loss: 8.2362e-09 - accuracy: 1.0000\n",
      "Epoch 85/100\n",
      "400/400 [==============================] - 1s 2ms/sample - loss: 8.4176e-09 - accuracy: 1.0000\n",
      "Epoch 86/100\n",
      "400/400 [==============================] - 1s 1ms/sample - loss: 5.0038e-09 - accuracy: 1.0000\n",
      "Epoch 87/100\n",
      "400/400 [==============================] - 1s 1ms/sample - loss: 3.8002e-09 - accuracy: 1.0000\n",
      "Epoch 88/100\n",
      "400/400 [==============================] - 1s 1ms/sample - loss: 2.2837e-08 - accuracy: 1.0000\n",
      "Epoch 89/100\n",
      "400/400 [==============================] - 1s 1ms/sample - loss: 3.1346e-09 - accuracy: 1.0000\n",
      "Epoch 90/100\n",
      "400/400 [==============================] - 1s 1ms/sample - loss: 2.4451e-09 - accuracy: 1.0000\n",
      "Epoch 91/100\n",
      "400/400 [==============================] - 1s 1ms/sample - loss: 1.8490e-09 - accuracy: 1.0000\n",
      "Epoch 92/100\n",
      "400/400 [==============================] - 1s 1ms/sample - loss: 2.0475e-09 - accuracy: 1.0000\n",
      "Epoch 93/100\n",
      "400/400 [==============================] - 1s 1ms/sample - loss: 2.0316e-09 - accuracy: 1.0000\n",
      "Epoch 94/100\n",
      "400/400 [==============================] - 1s 2ms/sample - loss: 1.4015e-08 - accuracy: 1.0000\n",
      "Epoch 95/100\n",
      "400/400 [==============================] - 1s 1ms/sample - loss: 3.2478e-09 - accuracy: 1.0000\n",
      "Epoch 96/100\n",
      "400/400 [==============================] - 1s 1ms/sample - loss: 8.8078e-10 - accuracy: 1.0000\n",
      "Epoch 97/100\n",
      "400/400 [==============================] - 1s 1ms/sample - loss: 8.5308e-10 - accuracy: 1.0000\n",
      "Epoch 98/100\n",
      "400/400 [==============================] - 1s 1ms/sample - loss: 7.7795e-10 - accuracy: 1.0000\n",
      "Epoch 99/100\n",
      "400/400 [==============================] - 1s 1ms/sample - loss: 7.6730e-10 - accuracy: 1.0000\n",
      "Epoch 100/100\n",
      "400/400 [==============================] - 1s 1ms/sample - loss: 8.8252e-10 - accuracy: 1.0000\n",
      "Modelo Entrenado\n"
     ]
    },
    {
     "data": {
      "text/plain": "[<matplotlib.lines.Line2D at 0x7f94e0057150>]"
     },
     "execution_count": 8,
     "metadata": {},
     "output_type": "execute_result"
    },
    {
     "data": {
      "text/plain": "<Figure size 432x288 with 1 Axes>",
      "image/png": "[encoded data removed]"
     },
     "metadata": {
      "needs_background": "light"
     },
     "output_type": "display_data"
    }
   ],
   "source": [
    "print(\"Iniciar el entrenamiento\")\n",
    "historial = model.fit(X_train_1,y_train_1, epochs=100,batch_size=1,verbose=True)\n",
    "print(\"Modelo Entrenado\")\n",
    "\n",
    "plt.xlabel(\"# Epoca\")\n",
    "plt.ylabel(\"Magnitud de perdida\")\n",
    "plt.plot(historial.history[\"loss\"])"
   ],
   "metadata": {
    "collapsed": false,
    "pycharm": {
     "name": "#%%\n"
    }
   }
  },
  {
   "cell_type": "code",
   "execution_count": 9,
   "outputs": [
    {
     "name": "stdout",
     "output_type": "stream",
     "text": [
      "Test accuracy : 1.0\n"
     ]
    }
   ],
   "source": [
    "loss, accuracy = model.evaluate(X_test_1, y_test, verbose=0)\n",
    "print(\"Test accuracy : \" + str(accuracy))\n"
   ],
   "metadata": {
    "collapsed": false,
    "pycharm": {
     "name": "#%%\n"
    }
   }
  },
  {
   "cell_type": "code",
   "execution_count": 15,
   "outputs": [
    {
     "name": "stdout",
     "output_type": "stream",
     "text": [
      "INFO:tensorflow:Assets written to: saved_model/model/assets\n",
      "Saved model to disk\n",
      "Model: \"sequential\"\n",
      "_________________________________________________________________\n",
      "Layer (type)                 Output Shape              Param #   \n",
      "=================================================================\n",
      "dense (Dense)                (None, 16)                48        \n",
      "_________________________________________________________________\n",
      "dense_1 (Dense)              (None, 8)                 136       \n",
      "_________________________________________________________________\n",
      "dense_2 (Dense)              (None, 1)                 9         \n",
      "=================================================================\n",
      "Total params: 193\n",
      "Trainable params: 193\n",
      "Non-trainable params: 0\n",
      "_________________________________________________________________\n"
     ]
    }
   ],
   "source": [
    "model.save(\"saved_model/model\")\n",
    "print(\"Saved model to disk\")\n",
    "\n",
    "# load model\n",
    "savedModel = load_model(\"saved_model/model\")\n",
    "savedModel.summary()\n"
   ],
   "metadata": {
    "collapsed": false,
    "pycharm": {
     "name": "#%%\n"
    }
   }
  },
  {
   "cell_type": "code",
   "execution_count": 16,
   "outputs": [],
   "source": [
    "def port(model, optimize=False, variable_name='model_data', pretty_print=False):\n",
    "    converter = tf.lite.TFLiteConverter.from_keras_model(model)\n",
    "    if optimize:\n",
    "        if isinstance(optimize, bool):\n",
    "            optimizers = [tf.lite.Optimize.OPTIMIZE_FOR_SIZE]\n",
    "        else:\n",
    "            optimizers = optimize\n",
    "        converter.optimizations = optimizers\n",
    "    tflite_model = converter.convert()\n",
    "    bytes = hexdump.dump(tflite_model).split(' ')\n",
    "    c_array = ', '.join(['0x%02x' % int(byte, 16) for byte in bytes])\n",
    "\n",
    "    return c_array.split(\",\")\n",
    "\n"
   ],
   "metadata": {
    "collapsed": false,
    "pycharm": {
     "name": "#%%\n"
    }
   }
  },
  {
   "cell_type": "code",
   "execution_count": null,
   "outputs": [],
   "source": [],
   "metadata": {
    "collapsed": false,
    "pycharm": {
     "name": "#%%\n"
    }
   }
  },
  {
   "cell_type": "code",
   "execution_count": null,
   "outputs": [],
   "source": [
    "text = port(model,variable_name=\"mi_data\")\n",
    "text"
   ],
   "metadata": {
    "collapsed": false,
    "pycharm": {
     "name": "#%%\n"
    }
   }
  }
 ],
 "metadata": {
  "kernelspec": {
   "display_name": "Python 3",
   "language": "python",
   "name": "python3"
  },
  "language_info": {
   "codemirror_mode": {
    "name": "ipython",
    "version": 2
   },
   "file_extension": ".py",
   "mimetype": "text/x-python",
   "name": "python",
   "nbconvert_exporter": "python",
   "pygments_lexer": "ipython2",
   "version": "2.7.6"
  }
 },
 "nbformat": 4,
 "nbformat_minor": 0
}