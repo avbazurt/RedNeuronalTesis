{
 "cells": [
  {
   "cell_type": "code",
   "execution_count": 8,
   "metadata": {
    "collapsed": true
   },
   "outputs": [
    {
     "name": "stdout",
     "output_type": "stream",
     "text": [
      "TensorFlow version: 2.1.1\n"
     ]
    }
   ],
   "source": [
    "from __future__ import absolute_import, division, print_function, unicode_literals\n",
    "import pandas\n",
    "import numpy as np\n",
    "import tensorflow as tf\n",
    "from tensorflow.keras import layers\n",
    "from tensorflow.keras.utils import to_categorical\n",
    "from keras.utils import np_utils\n",
    "\n",
    "from tensorflow.keras.models import load_model\n",
    "\n",
    "from sklearn.model_selection import train_test_split\n",
    "from sklearn.datasets import make_circles\n",
    "\n",
    "from keras import backend as K\n",
    "import matplotlib.pyplot as plt\n",
    "import re\n",
    "import hexdump\n",
    "\n",
    "print(\"TensorFlow version: {}\".format(tf.__version__))"
   ]
  },
  {
   "cell_type": "markdown",
   "source": [],
   "metadata": {
    "collapsed": false
   }
  },
  {
   "cell_type": "code",
   "execution_count": 9,
   "outputs": [
    {
     "name": "stderr",
     "output_type": "stream",
     "text": [
      "2021-12-30 19:19:25.770147: W tensorflow/stream_executor/platform/default/dso_loader.cc:55] Could not load dynamic library 'libcuda.so.1'; dlerror: libcuda.so.1: cannot open shared object file: No such file or directory\n",
      "2021-12-30 19:19:25.770196: E tensorflow/stream_executor/cuda/cuda_driver.cc:351] failed call to cuInit: UNKNOWN ERROR (303)\n",
      "2021-12-30 19:19:25.770225: I tensorflow/stream_executor/cuda/cuda_diagnostics.cc:156] kernel driver does not appear to be running on this host (fedora): /proc/driver/nvidia/version does not exist\n",
      "2021-12-30 19:19:25.770491: I tensorflow/core/platform/cpu_feature_guard.cc:142] Your CPU supports instructions that this TensorFlow binary was not compiled to use: AVX2 FMA\n",
      "2021-12-30 19:19:25.791220: I tensorflow/core/platform/profile_utils/cpu_utils.cc:94] CPU Frequency: 2699905000 Hz\n",
      "2021-12-30 19:19:25.791565: I tensorflow/compiler/xla/service/service.cc:168] XLA service 0x555c3dbddbb0 initialized for platform Host (this does not guarantee that XLA will be used). Devices:\n",
      "2021-12-30 19:19:25.791587: I tensorflow/compiler/xla/service/service.cc:176]   StreamExecutor device (0): Host, Default Version\n"
     ]
    },
    {
     "name": "stdout",
     "output_type": "stream",
     "text": [
      "Model: \"sequential\"\n",
      "_________________________________________________________________\n",
      "Layer (type)                 Output Shape              Param #   \n",
      "=================================================================\n",
      "dense (Dense)                (None, 16)                48        \n",
      "_________________________________________________________________\n",
      "dense_1 (Dense)              (None, 8)                 136       \n",
      "_________________________________________________________________\n",
      "dense_2 (Dense)              (None, 1)                 9         \n",
      "=================================================================\n",
      "Total params: 193\n",
      "Trainable params: 193\n",
      "Non-trainable params: 0\n",
      "_________________________________________________________________\n"
     ]
    }
   ],
   "source": [
    "# load model\n",
    "savedModel = load_model(\"saved_model/model\")\n",
    "savedModel.summary()"
   ],
   "metadata": {
    "collapsed": false,
    "pycharm": {
     "name": "#%%\n"
    }
   }
  },
  {
   "cell_type": "code",
   "execution_count": 30,
   "outputs": [
    {
     "data": {
      "text/plain": "array([[0.70741206]], dtype=float32)"
     },
     "execution_count": 30,
     "metadata": {},
     "output_type": "execute_result"
    }
   ],
   "source": [
    "input = np.array([[3,2]])\n",
    "savedModel.predict(input)"
   ],
   "metadata": {
    "collapsed": false,
    "pycharm": {
     "name": "#%%\n"
    }
   }
  },
  {
   "cell_type": "code",
   "execution_count": 12,
   "outputs": [],
   "source": [
    "def port(model, optimize=False, variable_name='model_data', pretty_print=False):\n",
    "    converter = tf.lite.TFLiteConverter.from_keras_model(model)\n",
    "    if optimize:\n",
    "        if isinstance(optimize, bool):\n",
    "            optimizers = [tf.lite.Optimize.OPTIMIZE_FOR_SIZE]\n",
    "        else:\n",
    "            optimizers = optimize\n",
    "        converter.optimizations = optimizers\n",
    "    tflite_model = converter.convert()\n",
    "    bytes = hexdump.dump(tflite_model).split(' ')\n",
    "    c_array = ', '.join(['0x%02x' % int(byte, 16) for byte in bytes])\n",
    "\n",
    "    return c_array.split(\",\")"
   ],
   "metadata": {
    "collapsed": false,
    "pycharm": {
     "name": "#%%\n"
    }
   }
  },
  {
   "cell_type": "code",
   "execution_count": 14,
   "outputs": [
    {
     "name": "stderr",
     "output_type": "stream",
     "text": [
      "2021-12-30 19:22:05.832125: I tensorflow/core/grappler/devices.cc:55] Number of eligible GPUs (core count >= 8, compute capability >= 0.0): 0\n",
      "2021-12-30 19:22:05.832433: I tensorflow/core/grappler/clusters/single_machine.cc:356] Starting new session\n",
      "2021-12-30 19:22:05.843420: I tensorflow/core/grappler/optimizers/meta_optimizer.cc:814] Optimization results for grappler item: graph_to_optimize\n",
      "2021-12-30 19:22:05.843463: I tensorflow/core/grappler/optimizers/meta_optimizer.cc:816]   function_optimizer: Graph size after: 65 nodes (54), 103 edges (90), time = 3.065ms.\n",
      "2021-12-30 19:22:05.843473: I tensorflow/core/grappler/optimizers/meta_optimizer.cc:816]   function_optimizer: function_optimizer did nothing. time = 0.066ms.\n",
      "2021-12-30 19:22:05.927057: I tensorflow/core/grappler/devices.cc:55] Number of eligible GPUs (core count >= 8, compute capability >= 0.0): 0\n",
      "2021-12-30 19:22:05.927223: I tensorflow/core/grappler/clusters/single_machine.cc:356] Starting new session\n",
      "2021-12-30 19:22:05.937012: I tensorflow/core/grappler/optimizers/meta_optimizer.cc:814] Optimization results for grappler item: graph_to_optimize\n",
      "2021-12-30 19:22:05.937053: I tensorflow/core/grappler/optimizers/meta_optimizer.cc:816]   constant_folding: Graph size after: 53 nodes (-12), 85 edges (-18), time = 4.284ms.\n",
      "2021-12-30 19:22:05.937063: I tensorflow/core/grappler/optimizers/meta_optimizer.cc:816]   constant_folding: Graph size after: 53 nodes (0), 85 edges (0), time = 1.554ms.\n"
     ]
    }
   ],
   "source": [
    "list_data = port(savedModel)"
   ],
   "metadata": {
    "collapsed": false,
    "pycharm": {
     "name": "#%%\n"
    }
   }
  },
  {
   "cell_type": "code",
   "execution_count": 26,
   "outputs": [
    {
     "name": "stdout",
     "output_type": "stream",
     "text": [
      "2776\n"
     ]
    }
   ],
   "source": [
    "#generar indices\n",
    "n = 10\n",
    "n_bytes = len(list_data)\n",
    "print(n_bytes)\n",
    "\n",
    "indices = []\n",
    "for x in range(n,n_bytes,n):\n",
    "    indices.append((x-n,x))\n",
    "if (x<n_bytes):\n",
    "    indices.append((x,n_bytes))\n",
    "\n",
    "indices\n",
    "\n",
    "file = open(\"model_v1.txt\",\"w\")\n",
    "\n",
    "for indice1,indice2 in indices:\n",
    "    text = \"\"\n",
    "    for datos in list_data[indice1:indice2]:\n",
    "        text+=datos.strip()+\",\"\n",
    "    text+=\"\\n\"\n",
    "    file.write(text)\n",
    "\n",
    "file.close()"
   ],
   "metadata": {
    "collapsed": false,
    "pycharm": {
     "name": "#%%\n"
    }
   }
  },
  {
   "cell_type": "code",
   "execution_count": 29,
   "outputs": [],
   "source": [
    "file = open(\"model_v2.txt\",\"w\")\n",
    "\n",
    "for dato in list_data:\n",
    "\n",
    "    file.write(\"{}\\n\".format(dato.strip()))\n",
    "\n",
    "file.close()"
   ],
   "metadata": {
    "collapsed": false,
    "pycharm": {
     "name": "#%%\n"
    }
   }
  }
 ],
 "metadata": {
  "kernelspec": {
   "display_name": "Python 3",
   "language": "python",
   "name": "python3"
  },
  "language_info": {
   "codemirror_mode": {
    "name": "ipython",
    "version": 2
   },
   "file_extension": ".py",
   "mimetype": "text/x-python",
   "name": "python",
   "nbconvert_exporter": "python",
   "pygments_lexer": "ipython2",
   "version": "2.7.6"
  }
 },
 "nbformat": 4,
 "nbformat_minor": 0
}