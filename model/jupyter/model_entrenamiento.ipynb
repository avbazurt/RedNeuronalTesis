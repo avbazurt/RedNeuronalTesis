{
 "cells": [
  {
   "cell_type": "code",
   "execution_count": 1,
   "metadata": {
    "collapsed": true
   },
   "outputs": [
    {
     "name": "stderr",
     "output_type": "stream",
     "text": [
      "Using TensorFlow backend.\n"
     ]
    },
    {
     "name": "stdout",
     "output_type": "stream",
     "text": [
      "TensorFlow version: 2.1.1\n"
     ]
    }
   ],
   "source": [
    "from __future__ import absolute_import, division, print_function, unicode_literals\n",
    "import pandas\n",
    "import numpy as np\n",
    "import tensorflow as tf\n",
    "from tensorflow.keras import layers\n",
    "from tensorflow.keras.utils import to_categorical\n",
    "from keras.utils import np_utils\n",
    "\n",
    "from tensorflow.keras.models import load_model\n",
    "\n",
    "from sklearn.model_selection import train_test_split\n",
    "from sklearn.datasets import make_circles\n",
    "\n",
    "from keras import backend as K\n",
    "import matplotlib.pyplot as plt\n",
    "import re\n",
    "import hexdump\n",
    "\n",
    "print(\"TensorFlow version: {}\".format(tf.__version__))"
   ]
  },
  {
   "cell_type": "code",
   "execution_count": 5,
   "outputs": [
    {
     "name": "stdout",
     "output_type": "stream",
     "text": [
      "(500, 2)\n",
      "(500,)\n"
     ]
    },
    {
     "data": {
      "text/plain": "<Figure size 432x288 with 1 Axes>",
      "image/png": "[encoded data removed]"
     },
     "metadata": {
      "needs_background": "light"
     },
     "output_type": "display_data"
    }
   ],
   "source": [
    "X , Y  = make_circles(n_samples=500, factor=0.5, noise=0.05)\n",
    "X = 5*X\n",
    "\n",
    "plt.scatter(X[Y==0,0],X[Y==0,1],c=\"skyblue\")\n",
    "plt.scatter(X[Y==1,0],X[Y==1,1],c=\"red\")\n",
    "\n",
    "print(np.shape(X))\n",
    "print(np.shape(Y))"
   ],
   "metadata": {
    "collapsed": false,
    "pycharm": {
     "name": "#%%\n"
    }
   }
  },
  {
   "cell_type": "code",
   "execution_count": 118,
   "outputs": [
    {
     "data": {
      "text/plain": "(220, 8)"
     },
     "execution_count": 118,
     "metadata": {},
     "output_type": "execute_result"
    }
   ],
   "source": [
    "kp = 1\n",
    "n1 = np.arange(0,220,kp)\n",
    "n2 = np.arange(0,220,kp)\n",
    "n3 = np.arange(0,220,kp)\n",
    "n4 = np.arange(0,220,kp)\n",
    "n5 = np.arange(0,220,kp)\n",
    "n6 = np.arange(0,220,kp)\n",
    "n7 = np.arange(0,220,kp)\n",
    "n8 = np.arange(0,220,kp)\n",
    "\n",
    "X = np.transpose([n1,n2,n3,n4,n5,n6,n7,n8])\n",
    "Y = np.random.randint(0,2,size=[np.shape(X)[0],3])\n",
    "\n",
    "np.shape(X)"
   ],
   "metadata": {
    "collapsed": false,
    "pycharm": {
     "name": "#%%\n"
    }
   }
  },
  {
   "cell_type": "code",
   "execution_count": 119,
   "outputs": [],
   "source": [
    "X_train,X_test,y_train,y_test=train_test_split(X,Y,train_size=0.8,random_state=23)\n",
    "\n",
    "\n",
    "X_train_1 = K.cast_to_floatx (X_train)\n",
    "X_test_1 = K.cast_to_floatx (X_test)\n",
    "y_train_1 = K.cast_to_floatx (y_train)"
   ],
   "metadata": {
    "collapsed": false,
    "pycharm": {
     "name": "#%%\n"
    }
   }
  },
  {
   "cell_type": "code",
   "execution_count": 120,
   "outputs": [
    {
     "name": "stdout",
     "output_type": "stream",
     "text": [
      "Model: \"sequential_20\"\n",
      "_________________________________________________________________\n",
      "Layer (type)                 Output Shape              Param #   \n",
      "=================================================================\n",
      "dense_89 (Dense)             (None, 32)                288       \n",
      "_________________________________________________________________\n",
      "dense_90 (Dense)             (None, 16)                528       \n",
      "_________________________________________________________________\n",
      "dense_91 (Dense)             (None, 8)                 136       \n",
      "_________________________________________________________________\n",
      "dense_92 (Dense)             (None, 3)                 27        \n",
      "=================================================================\n",
      "Total params: 979\n",
      "Trainable params: 979\n",
      "Non-trainable params: 0\n",
      "_________________________________________________________________\n"
     ]
    }
   ],
   "source": [
    "# El modelo\n",
    "model= tf.keras.Sequential()\n",
    "\n",
    "model.add(layers.Dense(32, activation='sigmoid', input_dim=8))\n",
    "model.add(layers.Dense(16, activation='relu'))\n",
    "model.add(layers.Dense(8, activation='relu'))\n",
    "model.add(layers.Dense(3, activation='sigmoid'))\n",
    "\n",
    "# Configulación del entrenamiento\n",
    "model.compile(loss='mean_squared_error', optimizer='adam', metrics=['accuracy'])\n",
    "\n",
    "model.summary()\n"
   ],
   "metadata": {
    "collapsed": false,
    "pycharm": {
     "name": "#%%\n"
    }
   }
  },
  {
   "cell_type": "code",
   "execution_count": 121,
   "outputs": [
    {
     "name": "stdout",
     "output_type": "stream",
     "text": [
      "Iniciar el entrenamiento\n",
      "Train on 176 samples\n",
      "Epoch 1/100\n",
      "176/176 [==============================] - 1s 3ms/sample - loss: 0.2583 - accuracy: 0.5795\n",
      "Epoch 2/100\n",
      "176/176 [==============================] - 0s 2ms/sample - loss: 0.2517 - accuracy: 0.4148\n",
      "Epoch 3/100\n",
      "176/176 [==============================] - 0s 2ms/sample - loss: 0.2500 - accuracy: 0.4716\n",
      "Epoch 4/100\n",
      "176/176 [==============================] - 0s 1ms/sample - loss: 0.2510 - accuracy: 0.5284\n",
      "Epoch 5/100\n",
      "176/176 [==============================] - 0s 1ms/sample - loss: 0.2497 - accuracy: 0.4375\n",
      "Epoch 6/100\n",
      "176/176 [==============================] - 0s 1ms/sample - loss: 0.2500 - accuracy: 0.4830\n",
      "Epoch 7/100\n",
      "176/176 [==============================] - 1s 3ms/sample - loss: 0.2496 - accuracy: 0.3295\n",
      "Epoch 8/100\n",
      "176/176 [==============================] - 0s 2ms/sample - loss: 0.2491 - accuracy: 0.2784\n",
      "Epoch 9/100\n",
      "176/176 [==============================] - 0s 2ms/sample - loss: 0.2491 - accuracy: 0.2784\n",
      "Epoch 10/100\n",
      "176/176 [==============================] - 1s 4ms/sample - loss: 0.2493 - accuracy: 0.3750\n",
      "Epoch 11/100\n",
      "176/176 [==============================] - 1s 3ms/sample - loss: 0.2491 - accuracy: 0.2784\n",
      "Epoch 12/100\n",
      "176/176 [==============================] - 0s 3ms/sample - loss: 0.2492 - accuracy: 0.2557\n",
      "Epoch 13/100\n",
      "176/176 [==============================] - 0s 2ms/sample - loss: 0.2493 - accuracy: 0.3182\n",
      "Epoch 14/100\n",
      "176/176 [==============================] - 0s 2ms/sample - loss: 0.2491 - accuracy: 0.3523\n",
      "Epoch 15/100\n",
      "176/176 [==============================] - 1s 3ms/sample - loss: 0.2486 - accuracy: 0.6477\n",
      "Epoch 16/100\n",
      "176/176 [==============================] - 1s 3ms/sample - loss: 0.2485 - accuracy: 0.5057\n",
      "Epoch 17/100\n",
      "176/176 [==============================] - 0s 2ms/sample - loss: 0.2487 - accuracy: 0.5000\n",
      "Epoch 18/100\n",
      "176/176 [==============================] - 0s 2ms/sample - loss: 0.2482 - accuracy: 0.3807\n",
      "Epoch 19/100\n",
      "176/176 [==============================] - 0s 2ms/sample - loss: 0.2482 - accuracy: 0.5284\n",
      "Epoch 20/100\n",
      "176/176 [==============================] - 0s 3ms/sample - loss: 0.2481 - accuracy: 0.4602\n",
      "Epoch 21/100\n",
      "176/176 [==============================] - 0s 2ms/sample - loss: 0.2485 - accuracy: 0.2955\n",
      "Epoch 22/100\n",
      "176/176 [==============================] - 1s 3ms/sample - loss: 0.2484 - accuracy: 0.3182\n",
      "Epoch 23/100\n",
      "176/176 [==============================] - 0s 2ms/sample - loss: 0.2479 - accuracy: 0.3125\n",
      "Epoch 24/100\n",
      "176/176 [==============================] - 0s 1ms/sample - loss: 0.2482 - accuracy: 0.5057\n",
      "Epoch 25/100\n",
      "176/176 [==============================] - 0s 1ms/sample - loss: 0.2479 - accuracy: 0.6534\n",
      "Epoch 26/100\n",
      "176/176 [==============================] - 0s 1ms/sample - loss: 0.2478 - accuracy: 0.6364\n",
      "Epoch 27/100\n",
      "176/176 [==============================] - 0s 1ms/sample - loss: 0.2480 - accuracy: 0.5227\n",
      "Epoch 28/100\n",
      "176/176 [==============================] - 0s 2ms/sample - loss: 0.2481 - accuracy: 0.5625\n",
      "Epoch 29/100\n",
      "176/176 [==============================] - 0s 1ms/sample - loss: 0.2480 - accuracy: 0.6591\n",
      "Epoch 30/100\n",
      "176/176 [==============================] - 0s 2ms/sample - loss: 0.2480 - accuracy: 0.4943\n",
      "Epoch 31/100\n",
      "176/176 [==============================] - 0s 1ms/sample - loss: 0.2478 - accuracy: 0.4432\n",
      "Epoch 32/100\n",
      "176/176 [==============================] - 0s 1ms/sample - loss: 0.2478 - accuracy: 0.2727\n",
      "Epoch 33/100\n",
      "176/176 [==============================] - 0s 1ms/sample - loss: 0.2477 - accuracy: 0.2727\n",
      "Epoch 34/100\n",
      "176/176 [==============================] - 0s 1ms/sample - loss: 0.2475 - accuracy: 0.2841\n",
      "Epoch 35/100\n",
      "176/176 [==============================] - 0s 1ms/sample - loss: 0.2475 - accuracy: 0.2898\n",
      "Epoch 36/100\n",
      "176/176 [==============================] - 0s 1ms/sample - loss: 0.2477 - accuracy: 0.2898\n",
      "Epoch 37/100\n",
      "176/176 [==============================] - 0s 1ms/sample - loss: 0.2475 - accuracy: 0.2784\n",
      "Epoch 38/100\n",
      "176/176 [==============================] - 0s 1ms/sample - loss: 0.2474 - accuracy: 0.2727\n",
      "Epoch 39/100\n",
      "176/176 [==============================] - 0s 2ms/sample - loss: 0.2474 - accuracy: 0.2955\n",
      "Epoch 40/100\n",
      "176/176 [==============================] - 0s 1ms/sample - loss: 0.2474 - accuracy: 0.2898\n",
      "Epoch 41/100\n",
      "176/176 [==============================] - 0s 1ms/sample - loss: 0.2472 - accuracy: 0.2898\n",
      "Epoch 42/100\n",
      "176/176 [==============================] - 0s 1ms/sample - loss: 0.2472 - accuracy: 0.2898\n",
      "Epoch 43/100\n",
      "176/176 [==============================] - 0s 1ms/sample - loss: 0.2472 - accuracy: 0.2955\n",
      "Epoch 44/100\n",
      "176/176 [==============================] - 0s 1ms/sample - loss: 0.2474 - accuracy: 0.2898\n",
      "Epoch 45/100\n",
      "176/176 [==============================] - 0s 2ms/sample - loss: 0.2471 - accuracy: 0.2955\n",
      "Epoch 46/100\n",
      "176/176 [==============================] - 0s 2ms/sample - loss: 0.2468 - accuracy: 0.3239\n",
      "Epoch 47/100\n",
      "176/176 [==============================] - 0s 2ms/sample - loss: 0.2479 - accuracy: 0.6136\n",
      "Epoch 48/100\n",
      "176/176 [==============================] - 0s 2ms/sample - loss: 0.2469 - accuracy: 0.4091\n",
      "Epoch 49/100\n",
      "176/176 [==============================] - 0s 2ms/sample - loss: 0.2472 - accuracy: 0.3636\n",
      "Epoch 50/100\n",
      "176/176 [==============================] - 0s 2ms/sample - loss: 0.2474 - accuracy: 0.4432\n",
      "Epoch 51/100\n",
      "176/176 [==============================] - 0s 2ms/sample - loss: 0.2468 - accuracy: 0.3352\n",
      "Epoch 52/100\n",
      "176/176 [==============================] - 0s 2ms/sample - loss: 0.2468 - accuracy: 0.3239\n",
      "Epoch 53/100\n",
      "176/176 [==============================] - 0s 2ms/sample - loss: 0.2475 - accuracy: 0.4489\n",
      "Epoch 54/100\n",
      "176/176 [==============================] - 0s 2ms/sample - loss: 0.2476 - accuracy: 0.6648\n",
      "Epoch 55/100\n",
      "176/176 [==============================] - 0s 1ms/sample - loss: 0.2472 - accuracy: 0.3352\n",
      "Epoch 56/100\n",
      "176/176 [==============================] - 0s 2ms/sample - loss: 0.2467 - accuracy: 0.3295\n",
      "Epoch 57/100\n",
      "176/176 [==============================] - 0s 2ms/sample - loss: 0.2468 - accuracy: 0.3295\n",
      "Epoch 58/100\n",
      "176/176 [==============================] - 0s 1ms/sample - loss: 0.2466 - accuracy: 0.3068\n",
      "Epoch 59/100\n",
      "176/176 [==============================] - 0s 1ms/sample - loss: 0.2466 - accuracy: 0.3920\n",
      "Epoch 60/100\n",
      "176/176 [==============================] - 0s 2ms/sample - loss: 0.2468 - accuracy: 0.3580\n",
      "Epoch 61/100\n",
      "176/176 [==============================] - 0s 1ms/sample - loss: 0.2464 - accuracy: 0.3125\n",
      "Epoch 62/100\n",
      "176/176 [==============================] - 0s 2ms/sample - loss: 0.2476 - accuracy: 0.6136\n",
      "Epoch 63/100\n",
      "176/176 [==============================] - 0s 2ms/sample - loss: 0.2471 - accuracy: 0.3807\n",
      "Epoch 64/100\n",
      "176/176 [==============================] - 0s 2ms/sample - loss: 0.2465 - accuracy: 0.2898\n",
      "Epoch 65/100\n",
      "176/176 [==============================] - 0s 1ms/sample - loss: 0.2465 - accuracy: 0.2784\n",
      "Epoch 66/100\n",
      "176/176 [==============================] - 0s 1ms/sample - loss: 0.2463 - accuracy: 0.3011\n",
      "Epoch 67/100\n",
      "176/176 [==============================] - 0s 1ms/sample - loss: 0.2461 - accuracy: 0.2955\n",
      "Epoch 68/100\n",
      "176/176 [==============================] - 0s 1ms/sample - loss: 0.2465 - accuracy: 0.3239\n",
      "Epoch 69/100\n",
      "176/176 [==============================] - 0s 1ms/sample - loss: 0.2459 - accuracy: 0.3182\n",
      "Epoch 70/100\n",
      "176/176 [==============================] - 0s 1ms/sample - loss: 0.2463 - accuracy: 0.2898\n",
      "Epoch 71/100\n",
      "176/176 [==============================] - 0s 1ms/sample - loss: 0.2459 - accuracy: 0.3409\n",
      "Epoch 72/100\n",
      "176/176 [==============================] - 0s 1ms/sample - loss: 0.2459 - accuracy: 0.3409\n",
      "Epoch 73/100\n",
      "176/176 [==============================] - 0s 1ms/sample - loss: 0.2460 - accuracy: 0.5057\n",
      "Epoch 74/100\n",
      "176/176 [==============================] - 0s 1ms/sample - loss: 0.2466 - accuracy: 0.5398\n",
      "Epoch 75/100\n",
      "176/176 [==============================] - 0s 1ms/sample - loss: 0.2464 - accuracy: 0.3352\n",
      "Epoch 76/100\n",
      "176/176 [==============================] - 0s 1ms/sample - loss: 0.2457 - accuracy: 0.3125\n",
      "Epoch 77/100\n",
      "176/176 [==============================] - 0s 1ms/sample - loss: 0.2458 - accuracy: 0.2955\n",
      "Epoch 78/100\n",
      "176/176 [==============================] - 0s 1ms/sample - loss: 0.2457 - accuracy: 0.3693\n",
      "Epoch 79/100\n",
      "176/176 [==============================] - 0s 1ms/sample - loss: 0.2474 - accuracy: 0.6193\n",
      "Epoch 80/100\n",
      "176/176 [==============================] - 0s 1ms/sample - loss: 0.2460 - accuracy: 0.4432\n",
      "Epoch 81/100\n",
      "176/176 [==============================] - 0s 1ms/sample - loss: 0.2457 - accuracy: 0.3352\n",
      "Epoch 82/100\n",
      "176/176 [==============================] - 0s 1ms/sample - loss: 0.2456 - accuracy: 0.3523\n",
      "Epoch 83/100\n",
      "176/176 [==============================] - 0s 1ms/sample - loss: 0.2454 - accuracy: 0.3068\n",
      "Epoch 84/100\n",
      "176/176 [==============================] - 0s 2ms/sample - loss: 0.2468 - accuracy: 0.6591\n",
      "Epoch 85/100\n",
      "176/176 [==============================] - 0s 2ms/sample - loss: 0.2455 - accuracy: 0.3011\n",
      "Epoch 86/100\n",
      "176/176 [==============================] - 0s 2ms/sample - loss: 0.2460 - accuracy: 0.4602\n",
      "Epoch 87/100\n",
      "176/176 [==============================] - 0s 1ms/sample - loss: 0.2452 - accuracy: 0.5341\n",
      "Epoch 88/100\n",
      "176/176 [==============================] - 0s 1ms/sample - loss: 0.2458 - accuracy: 0.6307\n",
      "Epoch 89/100\n",
      "176/176 [==============================] - 0s 1ms/sample - loss: 0.2455 - accuracy: 0.4489\n",
      "Epoch 90/100\n",
      "176/176 [==============================] - 0s 1ms/sample - loss: 0.2453 - accuracy: 0.3011\n",
      "Epoch 91/100\n",
      "176/176 [==============================] - 0s 1ms/sample - loss: 0.2454 - accuracy: 0.2841\n",
      "Epoch 92/100\n",
      "176/176 [==============================] - 0s 1ms/sample - loss: 0.2452 - accuracy: 0.3125\n",
      "Epoch 93/100\n",
      "176/176 [==============================] - 0s 1ms/sample - loss: 0.2454 - accuracy: 0.4034\n",
      "Epoch 94/100\n",
      "176/176 [==============================] - 0s 2ms/sample - loss: 0.2456 - accuracy: 0.5682\n",
      "Epoch 95/100\n",
      "176/176 [==============================] - 0s 1ms/sample - loss: 0.2452 - accuracy: 0.3125\n",
      "Epoch 96/100\n",
      "176/176 [==============================] - 0s 1ms/sample - loss: 0.2451 - accuracy: 0.3125\n",
      "Epoch 97/100\n",
      "176/176 [==============================] - 0s 1ms/sample - loss: 0.2451 - accuracy: 0.3068\n",
      "Epoch 98/100\n",
      "176/176 [==============================] - 0s 1ms/sample - loss: 0.2459 - accuracy: 0.3125\n",
      "Epoch 99/100\n",
      "176/176 [==============================] - 0s 1ms/sample - loss: 0.2451 - accuracy: 0.3068\n",
      "Epoch 100/100\n",
      "176/176 [==============================] - 0s 1ms/sample - loss: 0.2459 - accuracy: 0.5284\n",
      "Modelo Entrenado\n"
     ]
    },
    {
     "data": {
      "text/plain": "[<matplotlib.lines.Line2D at 0x23ba6aa3a90>]"
     },
     "execution_count": 121,
     "metadata": {},
     "output_type": "execute_result"
    },
    {
     "data": {
      "text/plain": "<Figure size 432x288 with 1 Axes>",
      "image/png": "[encoded data removed]"
     },
     "metadata": {
      "needs_background": "light"
     },
     "output_type": "display_data"
    }
   ],
   "source": [
    "print(\"Iniciar el entrenamiento\")\n",
    "historial = model.fit(X_train_1,y_train_1, epochs=100,batch_size=1,verbose=True)\n",
    "print(\"Modelo Entrenado\")\n",
    "\n",
    "plt.xlabel(\"# Epoca\")\n",
    "plt.ylabel(\"Magnitud de perdida\")\n",
    "plt.plot(historial.history[\"loss\"])"
   ],
   "metadata": {
    "collapsed": false,
    "pycharm": {
     "name": "#%%\n"
    }
   }
  },
  {
   "cell_type": "code",
   "execution_count": 113,
   "outputs": [
    {
     "name": "stdout",
     "output_type": "stream",
     "text": [
      "Test accuracy : 0.3\n"
     ]
    }
   ],
   "source": [
    "loss, accuracy = model.evaluate(X_test_1, y_test, verbose=0)\n",
    "print(\"Test accuracy : \" + str(accuracy))\n"
   ],
   "metadata": {
    "collapsed": false,
    "pycharm": {
     "name": "#%%\n"
    }
   }
  },
  {
   "cell_type": "code",
   "execution_count": 122,
   "outputs": [
    {
     "name": "stdout",
     "output_type": "stream",
     "text": [
      "WARNING:tensorflow:From C:\\Users\\bazur\\Desktop\\RedNeuronal\\RedNeuronalTesis\\model\\venv\\lib\\site-packages\\tensorflow_core\\python\\ops\\resource_variable_ops.py:1786: calling BaseResourceVariable.__init__ (from tensorflow.python.ops.resource_variable_ops) with constraint is deprecated and will be removed in a future version.\n",
      "Instructions for updating:\n",
      "If using Keras pass *_constraint arguments to layers.\n"
     ]
    },
    {
     "ename": "NotFoundError",
     "evalue": "Failed to create a directory: saved_model/model\\variables; No such file or directory",
     "output_type": "error",
     "traceback": [
      "\u001B[1;31m---------------------------------------------------------------------------\u001B[0m",
      "\u001B[1;31mNotFoundError\u001B[0m                             Traceback (most recent call last)",
      "\u001B[1;32m~\\AppData\\Local\\Temp/ipykernel_9196/4288251016.py\u001B[0m in \u001B[0;36m<module>\u001B[1;34m\u001B[0m\n\u001B[1;32m----> 1\u001B[1;33m \u001B[0mmodel\u001B[0m\u001B[1;33m.\u001B[0m\u001B[0msave\u001B[0m\u001B[1;33m(\u001B[0m\u001B[1;34m\"saved_model/model\"\u001B[0m\u001B[1;33m)\u001B[0m\u001B[1;33m\u001B[0m\u001B[1;33m\u001B[0m\u001B[0m\n\u001B[0m\u001B[0;32m      2\u001B[0m \u001B[0mprint\u001B[0m\u001B[1;33m(\u001B[0m\u001B[1;34m\"Saved model to disk\"\u001B[0m\u001B[1;33m)\u001B[0m\u001B[1;33m\u001B[0m\u001B[1;33m\u001B[0m\u001B[0m\n\u001B[0;32m      3\u001B[0m \u001B[1;33m\u001B[0m\u001B[0m\n\u001B[0;32m      4\u001B[0m \u001B[1;31m# load model\u001B[0m\u001B[1;33m\u001B[0m\u001B[1;33m\u001B[0m\u001B[1;33m\u001B[0m\u001B[0m\n\u001B[0;32m      5\u001B[0m \u001B[0msavedModel\u001B[0m \u001B[1;33m=\u001B[0m \u001B[0mload_model\u001B[0m\u001B[1;33m(\u001B[0m\u001B[1;34m\"saved_model/model\"\u001B[0m\u001B[1;33m)\u001B[0m\u001B[1;33m\u001B[0m\u001B[1;33m\u001B[0m\u001B[0m\n",
      "\u001B[1;32m~\\Desktop\\RedNeuronal\\RedNeuronalTesis\\model\\venv\\lib\\site-packages\\tensorflow_core\\python\\keras\\engine\\network.py\u001B[0m in \u001B[0;36msave\u001B[1;34m(self, filepath, overwrite, include_optimizer, save_format, signatures, options)\u001B[0m\n\u001B[0;32m   1006\u001B[0m     \"\"\"\n\u001B[0;32m   1007\u001B[0m     save.save_model(self, filepath, overwrite, include_optimizer, save_format,\n\u001B[1;32m-> 1008\u001B[1;33m                     signatures, options)\n\u001B[0m\u001B[0;32m   1009\u001B[0m \u001B[1;33m\u001B[0m\u001B[0m\n\u001B[0;32m   1010\u001B[0m   \u001B[1;32mdef\u001B[0m \u001B[0msave_weights\u001B[0m\u001B[1;33m(\u001B[0m\u001B[0mself\u001B[0m\u001B[1;33m,\u001B[0m \u001B[0mfilepath\u001B[0m\u001B[1;33m,\u001B[0m \u001B[0moverwrite\u001B[0m\u001B[1;33m=\u001B[0m\u001B[1;32mTrue\u001B[0m\u001B[1;33m,\u001B[0m \u001B[0msave_format\u001B[0m\u001B[1;33m=\u001B[0m\u001B[1;32mNone\u001B[0m\u001B[1;33m)\u001B[0m\u001B[1;33m:\u001B[0m\u001B[1;33m\u001B[0m\u001B[1;33m\u001B[0m\u001B[0m\n",
      "\u001B[1;32m~\\Desktop\\RedNeuronal\\RedNeuronalTesis\\model\\venv\\lib\\site-packages\\tensorflow_core\\python\\keras\\saving\\save.py\u001B[0m in \u001B[0;36msave_model\u001B[1;34m(model, filepath, overwrite, include_optimizer, save_format, signatures, options)\u001B[0m\n\u001B[0;32m    113\u001B[0m   \u001B[1;32melse\u001B[0m\u001B[1;33m:\u001B[0m\u001B[1;33m\u001B[0m\u001B[1;33m\u001B[0m\u001B[0m\n\u001B[0;32m    114\u001B[0m     saved_model_save.save(model, filepath, overwrite, include_optimizer,\n\u001B[1;32m--> 115\u001B[1;33m                           signatures, options)\n\u001B[0m\u001B[0;32m    116\u001B[0m \u001B[1;33m\u001B[0m\u001B[0m\n\u001B[0;32m    117\u001B[0m \u001B[1;33m\u001B[0m\u001B[0m\n",
      "\u001B[1;32m~\\Desktop\\RedNeuronal\\RedNeuronalTesis\\model\\venv\\lib\\site-packages\\tensorflow_core\\python\\keras\\saving\\saved_model\\save.py\u001B[0m in \u001B[0;36msave\u001B[1;34m(model, filepath, overwrite, include_optimizer, signatures, options)\u001B[0m\n\u001B[0;32m     76\u001B[0m     \u001B[1;31m# we use the default replica context here.\u001B[0m\u001B[1;33m\u001B[0m\u001B[1;33m\u001B[0m\u001B[1;33m\u001B[0m\u001B[0m\n\u001B[0;32m     77\u001B[0m     \u001B[1;32mwith\u001B[0m \u001B[0mdistribution_strategy_context\u001B[0m\u001B[1;33m.\u001B[0m\u001B[0m_get_default_replica_context\u001B[0m\u001B[1;33m(\u001B[0m\u001B[1;33m)\u001B[0m\u001B[1;33m:\u001B[0m  \u001B[1;31m# pylint: disable=protected-access\u001B[0m\u001B[1;33m\u001B[0m\u001B[1;33m\u001B[0m\u001B[0m\n\u001B[1;32m---> 78\u001B[1;33m       \u001B[0msave_lib\u001B[0m\u001B[1;33m.\u001B[0m\u001B[0msave\u001B[0m\u001B[1;33m(\u001B[0m\u001B[0mmodel\u001B[0m\u001B[1;33m,\u001B[0m \u001B[0mfilepath\u001B[0m\u001B[1;33m,\u001B[0m \u001B[0msignatures\u001B[0m\u001B[1;33m,\u001B[0m \u001B[0moptions\u001B[0m\u001B[1;33m)\u001B[0m\u001B[1;33m\u001B[0m\u001B[1;33m\u001B[0m\u001B[0m\n\u001B[0m\u001B[0;32m     79\u001B[0m \u001B[1;33m\u001B[0m\u001B[0m\n\u001B[0;32m     80\u001B[0m   \u001B[1;32mif\u001B[0m \u001B[1;32mnot\u001B[0m \u001B[0minclude_optimizer\u001B[0m\u001B[1;33m:\u001B[0m\u001B[1;33m\u001B[0m\u001B[1;33m\u001B[0m\u001B[0m\n",
      "\u001B[1;32m~\\Desktop\\RedNeuronal\\RedNeuronalTesis\\model\\venv\\lib\\site-packages\\tensorflow_core\\python\\saved_model\\save.py\u001B[0m in \u001B[0;36msave\u001B[1;34m(obj, export_dir, signatures, options)\u001B[0m\n\u001B[0;32m    913\u001B[0m   \u001B[1;31m# the checkpoint, copy assets into the assets directory, and write out the\u001B[0m\u001B[1;33m\u001B[0m\u001B[1;33m\u001B[0m\u001B[1;33m\u001B[0m\u001B[0m\n\u001B[0;32m    914\u001B[0m   \u001B[1;31m# SavedModel proto itself.\u001B[0m\u001B[1;33m\u001B[0m\u001B[1;33m\u001B[0m\u001B[1;33m\u001B[0m\u001B[0m\n\u001B[1;32m--> 915\u001B[1;33m   \u001B[0mutils_impl\u001B[0m\u001B[1;33m.\u001B[0m\u001B[0mget_or_create_variables_dir\u001B[0m\u001B[1;33m(\u001B[0m\u001B[0mexport_dir\u001B[0m\u001B[1;33m)\u001B[0m\u001B[1;33m\u001B[0m\u001B[1;33m\u001B[0m\u001B[0m\n\u001B[0m\u001B[0;32m    916\u001B[0m   \u001B[0mobject_saver\u001B[0m\u001B[1;33m.\u001B[0m\u001B[0msave\u001B[0m\u001B[1;33m(\u001B[0m\u001B[0mutils_impl\u001B[0m\u001B[1;33m.\u001B[0m\u001B[0mget_variables_path\u001B[0m\u001B[1;33m(\u001B[0m\u001B[0mexport_dir\u001B[0m\u001B[1;33m)\u001B[0m\u001B[1;33m)\u001B[0m\u001B[1;33m\u001B[0m\u001B[1;33m\u001B[0m\u001B[0m\n\u001B[0;32m    917\u001B[0m   builder_impl.copy_assets_to_destination_dir(asset_info.asset_filename_map,\n",
      "\u001B[1;32m~\\Desktop\\RedNeuronal\\RedNeuronalTesis\\model\\venv\\lib\\site-packages\\tensorflow_core\\python\\saved_model\\utils_impl.py\u001B[0m in \u001B[0;36mget_or_create_variables_dir\u001B[1;34m(export_dir)\u001B[0m\n\u001B[0;32m    212\u001B[0m   \u001B[0mvariables_dir\u001B[0m \u001B[1;33m=\u001B[0m \u001B[0mget_variables_dir\u001B[0m\u001B[1;33m(\u001B[0m\u001B[0mexport_dir\u001B[0m\u001B[1;33m)\u001B[0m\u001B[1;33m\u001B[0m\u001B[1;33m\u001B[0m\u001B[0m\n\u001B[0;32m    213\u001B[0m   \u001B[1;32mif\u001B[0m \u001B[1;32mnot\u001B[0m \u001B[0mfile_io\u001B[0m\u001B[1;33m.\u001B[0m\u001B[0mfile_exists\u001B[0m\u001B[1;33m(\u001B[0m\u001B[0mvariables_dir\u001B[0m\u001B[1;33m)\u001B[0m\u001B[1;33m:\u001B[0m\u001B[1;33m\u001B[0m\u001B[1;33m\u001B[0m\u001B[0m\n\u001B[1;32m--> 214\u001B[1;33m     \u001B[0mfile_io\u001B[0m\u001B[1;33m.\u001B[0m\u001B[0mrecursive_create_dir\u001B[0m\u001B[1;33m(\u001B[0m\u001B[0mvariables_dir\u001B[0m\u001B[1;33m)\u001B[0m\u001B[1;33m\u001B[0m\u001B[1;33m\u001B[0m\u001B[0m\n\u001B[0m\u001B[0;32m    215\u001B[0m   \u001B[1;32mreturn\u001B[0m \u001B[0mvariables_dir\u001B[0m\u001B[1;33m\u001B[0m\u001B[1;33m\u001B[0m\u001B[0m\n\u001B[0;32m    216\u001B[0m \u001B[1;33m\u001B[0m\u001B[0m\n",
      "\u001B[1;32m~\\Desktop\\RedNeuronal\\RedNeuronalTesis\\model\\venv\\lib\\site-packages\\tensorflow_core\\python\\lib\\io\\file_io.py\u001B[0m in \u001B[0;36mrecursive_create_dir\u001B[1;34m(dirname)\u001B[0m\n\u001B[0;32m    438\u001B[0m     \u001B[0merrors\u001B[0m\u001B[1;33m.\u001B[0m\u001B[0mOpError\u001B[0m\u001B[1;33m:\u001B[0m \u001B[0mIf\u001B[0m \u001B[0mthe\u001B[0m \u001B[0moperation\u001B[0m \u001B[0mfails\u001B[0m\u001B[1;33m.\u001B[0m\u001B[1;33m\u001B[0m\u001B[1;33m\u001B[0m\u001B[0m\n\u001B[0;32m    439\u001B[0m   \"\"\"\n\u001B[1;32m--> 440\u001B[1;33m   \u001B[0mrecursive_create_dir_v2\u001B[0m\u001B[1;33m(\u001B[0m\u001B[0mdirname\u001B[0m\u001B[1;33m)\u001B[0m\u001B[1;33m\u001B[0m\u001B[1;33m\u001B[0m\u001B[0m\n\u001B[0m\u001B[0;32m    441\u001B[0m \u001B[1;33m\u001B[0m\u001B[0m\n\u001B[0;32m    442\u001B[0m \u001B[1;33m\u001B[0m\u001B[0m\n",
      "\u001B[1;32m~\\Desktop\\RedNeuronal\\RedNeuronalTesis\\model\\venv\\lib\\site-packages\\tensorflow_core\\python\\lib\\io\\file_io.py\u001B[0m in \u001B[0;36mrecursive_create_dir_v2\u001B[1;34m(path)\u001B[0m\n\u001B[0;32m    453\u001B[0m     \u001B[0merrors\u001B[0m\u001B[1;33m.\u001B[0m\u001B[0mOpError\u001B[0m\u001B[1;33m:\u001B[0m \u001B[0mIf\u001B[0m \u001B[0mthe\u001B[0m \u001B[0moperation\u001B[0m \u001B[0mfails\u001B[0m\u001B[1;33m.\u001B[0m\u001B[1;33m\u001B[0m\u001B[1;33m\u001B[0m\u001B[0m\n\u001B[0;32m    454\u001B[0m   \"\"\"\n\u001B[1;32m--> 455\u001B[1;33m   \u001B[0mpywrap_tensorflow\u001B[0m\u001B[1;33m.\u001B[0m\u001B[0mRecursivelyCreateDir\u001B[0m\u001B[1;33m(\u001B[0m\u001B[0mcompat\u001B[0m\u001B[1;33m.\u001B[0m\u001B[0mas_bytes\u001B[0m\u001B[1;33m(\u001B[0m\u001B[0mpath\u001B[0m\u001B[1;33m)\u001B[0m\u001B[1;33m)\u001B[0m\u001B[1;33m\u001B[0m\u001B[1;33m\u001B[0m\u001B[0m\n\u001B[0m\u001B[0;32m    456\u001B[0m \u001B[1;33m\u001B[0m\u001B[0m\n\u001B[0;32m    457\u001B[0m \u001B[1;33m\u001B[0m\u001B[0m\n",
      "\u001B[1;31mNotFoundError\u001B[0m: Failed to create a directory: saved_model/model\\variables; No such file or directory"
     ]
    }
   ],
   "source": [
    "model.save(\"saved_model/model\")\n",
    "print(\"Saved model to disk\")\n",
    "\n",
    "# load model\n",
    "savedModel = load_model(\"saved_model/model\")\n",
    "savedModel.summary()\n"
   ],
   "metadata": {
    "collapsed": false,
    "pycharm": {
     "name": "#%%\n"
    }
   }
  },
  {
   "cell_type": "code",
   "execution_count": 125,
   "outputs": [
    {
     "name": "stdout",
     "output_type": "stream",
     "text": [
      "Modelo Guardado\n"
     ]
    }
   ],
   "source": [
    "def GenerateLiteModel(model,optimize=False):\n",
    "    converter = tf.lite.TFLiteConverter.from_keras_model(model)\n",
    "    if optimize:\n",
    "        if isinstance(optimize, bool):\n",
    "            optimizers = [tf.lite.Optimize.OPTIMIZE_FOR_SIZE]\n",
    "        else:\n",
    "            optimizers = optimize\n",
    "        converter.optimizations = optimizers\n",
    "    tflite_model = converter.convert()\n",
    "    bytes = hexdump.dump(tflite_model).split(' ')\n",
    "    c_array = ', '.join(['0x%02x' % int(byte, 16) for byte in bytes])\n",
    "\n",
    "    return c_array.split(\",\")\n",
    "\n",
    "\n",
    "list_datos = GenerateLiteModel(model)\n",
    "\n",
    "file = open(\"model.txt\",'w')\n",
    "file.write(\"{}\\n\".format(len(list_datos)))\n",
    "\n",
    "for dato in list_datos:\n",
    "    file.write(\"{}\\n\".format(dato.strip()))\n",
    "file.close()\n",
    "print(\"Modelo Guardado\")"
   ],
   "metadata": {
    "collapsed": false,
    "pycharm": {
     "name": "#%%\n"
    }
   }
  },
  {
   "cell_type": "code",
   "execution_count": 127,
   "outputs": [
    {
     "data": {
      "text/plain": "array([[0.5468362 , 0.49758935, 0.46442038]], dtype=float32)"
     },
     "execution_count": 127,
     "metadata": {},
     "output_type": "execute_result"
    }
   ],
   "source": [
    "x1 = 114.41\n",
    "x2 = 81.40\n",
    "x3 = 178.21\n",
    "x4 = 107.80\n",
    "x5 = 200.21\n",
    "x6 = 202.41\n",
    "x7 = 112.21\n",
    "x8 = 169.41\n",
    "\n",
    "input = np.array([[x1,x2,x3,x4,x5,x6,x7,x8]])\n",
    "model.predict(input)"
   ],
   "metadata": {
    "collapsed": false,
    "pycharm": {
     "name": "#%%\n"
    }
   }
  }
 ],
 "metadata": {
  "kernelspec": {
   "display_name": "Python 3",
   "language": "python",
   "name": "python3"
  },
  "language_info": {
   "codemirror_mode": {
    "name": "ipython",
    "version": 2
   },
   "file_extension": ".py",
   "mimetype": "text/x-python",
   "name": "python",
   "nbconvert_exporter": "python",
   "pygments_lexer": "ipython2",
   "version": "2.7.6"
  }
 },
 "nbformat": 4,
 "nbformat_minor": 0
}